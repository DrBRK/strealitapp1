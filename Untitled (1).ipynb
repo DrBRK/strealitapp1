{
 "cells": [
  {
   "cell_type": "code",
   "execution_count": null,
   "id": "8902b414",
   "metadata": {},
   "outputs": [],
   "source": []
  },
  {
   "cell_type": "code",
   "execution_count": 3,
   "id": "3701ee4e",
   "metadata": {},
   "outputs": [
    {
     "data": {
      "text/plain": [
       "True"
      ]
     },
     "execution_count": 3,
     "metadata": {},
     "output_type": "execute_result"
    }
   ],
   "source": []
  },
  {
   "cell_type": "code",
   "execution_count": 12,
   "id": "5d11140e",
   "metadata": {},
   "outputs": [
    {
     "name": "stdout",
     "output_type": "stream",
     "text": [
      "[['A HARITHA', '18A21B0501', '18A21B0501', '66,900', 'send msg to parent', '9492423324'], ['B L SRAVANI', '18A21B0502', '18A21B0502', '53,625', 'send msg to parent', '9390194223'], ['B S MOUNIKA', '18A21B0504', '18A21B0504', '86,900', 'SENT MESSAGE TO PARENT', '9490730454']]\n"
     ]
    }
   ],
   "source": [
    "import csv\n",
    "file = open(\"data.csv\")\n",
    "csvreader = csv.reader(file)\n",
    "header = next(csvreader)\n",
    "#print(header)\n",
    "rows = []\n",
    "for row in csvreader:\n",
    "    rows.append(row)\n",
    "print(rows)\n",
    "file.close()"
   ]
  },
  {
   "cell_type": "code",
   "execution_count": 30,
   "id": "3af9cf5f",
   "metadata": {},
   "outputs": [
    {
     "name": "stdout",
     "output_type": "stream",
     "text": [
      "http://bulkwhatsapp.live/wapp/api/send?apikey=952ab4e4144d4dd7b729f7251e89c855&mobile=9492423324&msg=\"Dear Parent, Your son or daughterA HARITHAcollege fees due amount is66,900for the Final year  please clear the due amount on or before 30-4-2022. Principal , SWARNANDHRA COLLEGE OF ENGINEERING AND TECHNOLOGY.Thank you\"\n",
      "http://bulkwhatsapp.live/wapp/api/send?apikey=952ab4e4144d4dd7b729f7251e89c855&mobile=9390194223&msg=\"Dear Parent, Your son or daughterB L SRAVANIcollege fees due amount is53,625for the Final year  please clear the due amount on or before 30-4-2022. Principal , SWARNANDHRA COLLEGE OF ENGINEERING AND TECHNOLOGY.Thank you\"\n",
      "http://bulkwhatsapp.live/wapp/api/send?apikey=952ab4e4144d4dd7b729f7251e89c855&mobile=9490730454&msg=\"Dear Parent, Your son or daughterB S MOUNIKAcollege fees due amount is86,900for the Final year  please clear the due amount on or before 30-4-2022. Principal , SWARNANDHRA COLLEGE OF ENGINEERING AND TECHNOLOGY.Thank you\"\n"
     ]
    }
   ],
   "source": [
    "import webbrowser\n",
    "\n",
    "for x in rows:\n",
    "    str1=\"http://bulkwhatsapp.live/wapp/api/send?apikey=952ab4e4144d4dd7b729f7251e89c855&mobile=\"\n",
    "    str2=str(x[5])\n",
    "    str3=\"&msg=\"\"\\\"Dear Parent, Your son or daughter\"\n",
    "    str5=str(x[0])\n",
    "    str6=\"college fees due amount is\"\n",
    "    str7=str(x[3])\n",
    "    str8=\"for the Final year  please clear the due amount on or before 30-4-2022. Principal , SWARNANDHRA COLLEGE OF ENGINEERING AND TECHNOLOGY.Thank you\\\"\"\n",
    "    result=str1+str2+str3+str5+str6+str7+str8\n",
    "    print(result)\n",
    "    webbrowser.open(result)\n",
    "#webbrowser.open('http://bulkwhatsapp.live/wapp/api/send?apikey=952ab4e4144d4dd7b729f7251e89c855&mobile=9490730454 &msg=\"Dear Parent, Your son/daughter A HARITHA college fees due amount is *66900* for the Final year  please clear the due amount on or before 30-4-2022. Principal , SWARNANDHRA COLLEGE OF ENGINEERING AND TECHNOLOGY.Thank you.\"')"
   ]
  }
 ],
 "metadata": {
  "kernelspec": {
   "display_name": "Python 3 (ipykernel)",
   "language": "python",
   "name": "python3"
  },
  "language_info": {
   "codemirror_mode": {
    "name": "ipython",
    "version": 3
   },
   "file_extension": ".py",
   "mimetype": "text/x-python",
   "name": "python",
   "nbconvert_exporter": "python",
   "pygments_lexer": "ipython3",
   "version": "3.9.7"
  }
 },
 "nbformat": 4,
 "nbformat_minor": 5
}
